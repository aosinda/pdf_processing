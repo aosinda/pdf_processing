{
 "cells": [
  {
   "cell_type": "code",
   "execution_count": 3,
   "metadata": {},
   "outputs": [],
   "source": [
    "import fitz  # PyMuPDF\n",
    "import pandas as pd\n",
    "from tabula import read_pdf\n",
    "import re"
   ]
  },
  {
   "cell_type": "code",
   "execution_count": 4,
   "metadata": {},
   "outputs": [],
   "source": [
    "#Insert your pdf path. For example: pdf_path = \"data/multiple_test.pdf\". \n",
    "# #I reccomend to have a folder with your data, called \"data\" and to insert your file(s) here. \n",
    "# #If you have the repo forked and will develope further, remember to add the folder to .gitignore.  \n",
    "pdf_path = \"path/to/pdf/file.pdf\""
   ]
  },
  {
   "cell_type": "code",
   "execution_count": 5,
   "metadata": {},
   "outputs": [],
   "source": [
    "def extract_specific_columns_from_page(pdf_path, page_number):\n",
    "    try:\n",
    "        tables = read_pdf(pdf_path, pages=str(page_number), multiple_tables=True, stream=True)\n",
    "        if tables:\n",
    "            table = tables[0]\n",
    "            if 'your column name' in table.columns and 'another column name' in table.columns:\n",
    "                return table[['your column name', 'another column name']]\n",
    "            else:\n",
    "                print(f\"Specified columns not found on page {page_number}.\")\n",
    "                return None\n",
    "        else:\n",
    "            print(f\"No tables found on page {page_number}.\")\n",
    "            return None\n",
    "    except Exception as e:\n",
    "        print(f\"Error on page {page_number}: {e}\")\n",
    "        return None\n"
   ]
  },
  {
   "cell_type": "code",
   "execution_count": null,
   "metadata": {},
   "outputs": [],
   "source": [
    "\n",
    "def extract_text_info_from_page(pdf_path, page_number):\n",
    "    doc = fitz.open(pdf_path)\n",
    "    page = doc.load_page(page_number - 1)  # Pages are 0-indexed in PyMuPDF\n",
    "    text = page.get_text()\n",
    "\n",
    "    info_keys = ['key value in text','key value in text1', 'key value in text2', 'key value in text3', 'key value in text4']\n",
    "    info_values = [re.search(f\"{key}:\\s*(.*)\", text).group(1) for key in info_keys if re.search(f\"{key}:\\s*(.*)\", text)]\n",
    "    \n",
    "    extracted_info = dict(zip(info_keys, info_values))\n",
    "    df_info = pd.DataFrame([extracted_info])\n",
    "    doc.close()\n",
    "    \n",
    "    return df_info"
   ]
  },
  {
   "cell_type": "code",
   "execution_count": 6,
   "metadata": {},
   "outputs": [],
   "source": [
    "def transpose_table_clean(df):\n",
    "    # Check if 'your column name' column exists to set it as the index\n",
    "    if 'your column name' in df.columns:\n",
    "        # Set the 'your column name' column as the index and transpose the DataFrame\n",
    "        df_transposed = df.set_index('your column name').T\n",
    "        \n",
    "        # Remove the name of the index and columns\n",
    "        df_transposed.index.name = None\n",
    "        df_transposed.columns.name = None\n",
    "        \n",
    "        # Optionally, return the cleaned transposed DataFrame for further use\n",
    "        return df_transposed\n",
    "    else:\n",
    "        print(\"The 'your column name' column was not found.\")\n",
    "        return None\n"
   ]
  },
  {
   "cell_type": "code",
   "execution_count": 7,
   "metadata": {},
   "outputs": [],
   "source": [
    "def process_pdf_pages(pdf_path):\n",
    "    # Open the PDF\n",
    "    doc = fitz.open(pdf_path)\n",
    "    combined_data_list = []\n",
    "    \n",
    "    # Iterate over each page in the PDF\n",
    "    for page_number in range(1, len(doc) + 1):\n",
    "        print(f\"Processing page {page_number} of {pdf_path}...\")\n",
    "        \n",
    "        # Step 1: Extract specific columns for this page\n",
    "        table = extract_specific_columns_from_page(pdf_path, page_number)\n",
    "        if table is not None:\n",
    "            df_transposed = transpose_table_clean(table)\n",
    "        \n",
    "        # Step 2: Extract text information for this page\n",
    "        df_info = extract_text_info_from_page(pdf_path, page_number)\n",
    "        \n",
    "        # Step 3: Combine the DataFrames if both are defined\n",
    "        if df_transposed is not None and df_info is not None:\n",
    "            df_transposed_reset = df_transposed.reset_index(drop=True)\n",
    "            df_info_reset = df_info.reset_index(drop=True)\n",
    "            \n",
    "            combined_df = pd.concat([df_info_reset, df_transposed_reset], axis=1)\n",
    "            combined_data_list.append(combined_df)\n",
    "        else:\n",
    "            print(f\"Skipping page {page_number} due to missing data.\")\n",
    "    \n",
    "    doc.close()\n",
    "    \n",
    "    if combined_data_list:\n",
    "        return pd.concat(combined_data_list, ignore_index=True)\n",
    "    else:\n",
    "        return None\n"
   ]
  },
  {
   "cell_type": "code",
   "execution_count": null,
   "metadata": {},
   "outputs": [],
   "source": [
    "# Initialize list to store combined data from all pages in the PDF\n",
    "all_pages_combined_data_list = []\n",
    "\n",
    "# Process all pages of the single PDF\n",
    "combined_df = process_pdf_pages(pdf_path)\n",
    "\n",
    "if combined_df is not None:\n",
    "    all_pages_combined_data_list.append(combined_df)\n",
    "else:\n",
    "    print(f\"No data extracted from {pdf_path}.\")\n",
    "\n",
    "# Combine all data from all pages in the single PDF\n",
    "if all_pages_combined_data_list:\n",
    "    final_combined_df = pd.concat(all_pages_combined_data_list, ignore_index=True)\n",
    "    \n",
    "    # Display final combined DataFrame\n",
    "    print(final_combined_df.to_string(index=False))\n",
    "    \n",
    "    # Save final combined data to CSV\n",
    "    final_combined_df.to_csv('final_combined_results.csv', index=False)\n",
    "else:\n",
    "    print(\"No data was processed from the PDF.\")"
   ]
  }
 ],
 "metadata": {
  "kernelspec": {
   "display_name": "Python 3",
   "language": "python",
   "name": "python3"
  },
  "language_info": {
   "codemirror_mode": {
    "name": "ipython",
    "version": 3
   },
   "file_extension": ".py",
   "mimetype": "text/x-python",
   "name": "python",
   "nbconvert_exporter": "python",
   "pygments_lexer": "ipython3",
   "version": "3.11.9"
  }
 },
 "nbformat": 4,
 "nbformat_minor": 2
}
