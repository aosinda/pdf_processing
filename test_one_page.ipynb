{
 "cells": [
  {
   "cell_type": "code",
   "execution_count": 48,
   "metadata": {},
   "outputs": [],
   "source": [
    "import pandas as pd\n",
    "from tabula import read_pdf\n",
    "import fitz  # PyMuPDF\n",
    "import re"
   ]
  },
  {
   "cell_type": "code",
   "execution_count": 49,
   "metadata": {},
   "outputs": [],
   "source": [
    "pdf_path = 'new_data/multiple_test.pdf'  # Adjust this to the correct path"
   ]
  },
  {
   "cell_type": "markdown",
   "metadata": {},
   "source": [
    "#### Extracting table with the specific information"
   ]
  },
  {
   "cell_type": "code",
   "execution_count": 50,
   "metadata": {},
   "outputs": [],
   "source": [
    "def extract_specific_columns(pdf_path):\n",
    "    # Attempting to extract tables using tabula-py\n",
    "    try:\n",
    "        tables = read_pdf(pdf_path, pages='all', multiple_tables=True, stream=True)\n",
    "        if tables:\n",
    "            # Assuming you are interested in the first table\n",
    "            table = tables[0]\n",
    "            if 'Parameter' in table.columns and 'Resultat' in table.columns:\n",
    "                return table[['Parameter', 'Resultat']]\n",
    "            else:\n",
    "                print(\"The specified columns were not found in the table.\")\n",
    "                return None\n",
    "        else:\n",
    "            print(\"No tables found in the PDF.\")\n",
    "            return None\n",
    "    except Exception as e:\n",
    "        print(f\"An error occurred: {e}\")\n",
    "        return None"
   ]
  },
  {
   "cell_type": "code",
   "execution_count": 52,
   "metadata": {},
   "outputs": [
    {
     "name": "stderr",
     "output_type": "stream",
     "text": [
      "Aug 23, 2024 1:13:26 PM org.apache.pdfbox.pdmodel.graphics.color.PDICCBased ensureDisplayProfile\n",
      "WARNING: ICC profile is Perceptual, ignoring, treating as Display class\n",
      "Aug 23, 2024 1:13:26 PM org.apache.pdfbox.pdmodel.graphics.color.PDICCBased ensureDisplayProfile\n",
      "WARNING: ICC profile is Perceptual, ignoring, treating as Display class\n",
      "Aug 23, 2024 1:13:26 PM org.apache.pdfbox.pdmodel.graphics.color.PDICCBased ensureDisplayProfile\n",
      "WARNING: ICC profile is Perceptual, ignoring, treating as Display class\n",
      "Aug 23, 2024 1:13:26 PM org.apache.pdfbox.pdmodel.graphics.color.PDICCBased ensureDisplayProfile\n",
      "WARNING: ICC profile is Perceptual, ignoring, treating as Display class\n",
      "Aug 23, 2024 1:13:26 PM org.apache.pdfbox.pdmodel.graphics.color.PDICCBased ensureDisplayProfile\n",
      "WARNING: ICC profile is Perceptual, ignoring, treating as Display class\n",
      "Aug 23, 2024 1:13:26 PM org.apache.pdfbox.pdmodel.graphics.color.PDICCBased ensureDisplayProfile\n",
      "WARNING: ICC profile is Perceptual, ignoring, treating as Display class\n",
      "Aug 23, 2024 1:13:26 PM org.apache.pdfbox.pdmodel.graphics.color.PDICCBased ensureDisplayProfile\n",
      "WARNING: ICC profile is Perceptual, ignoring, treating as Display class\n",
      "Aug 23, 2024 1:13:26 PM org.apache.pdfbox.pdmodel.graphics.color.PDICCBased ensureDisplayProfile\n",
      "WARNING: ICC profile is Perceptual, ignoring, treating as Display class\n",
      "Aug 23, 2024 1:13:26 PM org.apache.pdfbox.pdmodel.graphics.color.PDICCBased ensureDisplayProfile\n",
      "WARNING: ICC profile is Perceptual, ignoring, treating as Display class\n",
      "Aug 23, 2024 1:13:26 PM org.apache.pdfbox.pdmodel.graphics.color.PDICCBased ensureDisplayProfile\n",
      "WARNING: ICC profile is Perceptual, ignoring, treating as Display class\n"
     ]
    },
    {
     "name": "stdout",
     "output_type": "stream",
     "text": [
      "                    Parameter Resultat\n",
      "0                 Tørstof, TS       85\n",
      "1         Kulbrinter C6H6-C10       <2\n",
      "2         Kulbrinter >C10-C15       <5\n",
      "3         Kulbrinter >C15-C20       <5\n",
      "4         Kulbrinter >C20-C35      <20\n",
      "5   Totalkulbrinter, sum af 4        #\n",
      "6               Benzo(a)pyren   0,0072\n",
      "7        Dibenz(a,h)anthracen   <0,005\n",
      "8         Sum af PAH (7 stk.)    0,057\n",
      "9                         Bly       20\n",
      "10                    Cadmium     0,39\n",
      "11               Chrom, Total       29\n"
     ]
    }
   ],
   "source": [
    "df_info_specific_columns = extract_specific_columns(pdf_path)\n",
    "if df_info_specific_columns is not None:\n",
    "    print(df_info_specific_columns.head(12))"
   ]
  },
  {
   "cell_type": "markdown",
   "metadata": {},
   "source": [
    "#### Turn it around"
   ]
  },
  {
   "cell_type": "code",
   "execution_count": 30,
   "metadata": {},
   "outputs": [],
   "source": [
    "def transpose_table_clean(df):\n",
    "    # Check if 'Parameter' column exists to set it as the index\n",
    "    if 'Parameter' in df.columns:\n",
    "        # Set the 'Parameter' column as the index and transpose the DataFrame\n",
    "        df_transposed = df.set_index('Parameter').T\n",
    "        \n",
    "        # Remove the name of the index and columns\n",
    "        df_transposed.index.name = None\n",
    "        df_transposed.columns.name = None\n",
    "        \n",
    "        # Print the cleaned transposed DataFrame without resetting the index\n",
    "        print(\"Cleaned Transposed Table without resetting the index:\")\n",
    "        print(df_transposed.to_string(index=False))  # Print without showing the index column\n",
    "        \n",
    "        # Optionally, return the cleaned transposed DataFrame for further use\n",
    "        return df_transposed\n",
    "    else:\n",
    "        print(\"The 'Parameter' column was not found.\")\n",
    "        return None\n",
    "\n",
    "\n"
   ]
  },
  {
   "cell_type": "code",
   "execution_count": 32,
   "metadata": {},
   "outputs": [
    {
     "name": "stdout",
     "output_type": "stream",
     "text": [
      "Tørstof, TS Kulbrinter C6H6-C10 Kulbrinter >C10-C15 Kulbrinter >C15-C20 Kulbrinter >C20-C35 Totalkulbrinter, sum af 4 Benzo(a)pyren Dibenz(a,h)anthracen Sum af PAH (7 stk.) Bly Cadmium Chrom, Total Kobber Nikkel Zink\n",
      "         85                  <2                  <5                  <5                 <20                         #        0,0072               <0,005               0,057  20    0,39           29     15     19   54\n"
     ]
    }
   ],
   "source": [
    "if transposed_cleaned_table is not None:\n",
    "    print(transposed_cleaned_table.to_string(index=False))\n"
   ]
  },
  {
   "cell_type": "code",
   "execution_count": 43,
   "metadata": {},
   "outputs": [],
   "source": [
    "def extract_text_info(pdf_path):\n",
    "    # Open the PDF and extract text\n",
    "    doc = fitz.open(pdf_path)\n",
    "    text = \"\"\n",
    "    for page in doc:\n",
    "        text += page.get_text()\n",
    "    doc.close()\n",
    "    \n",
    "    # Define the keys to search for in the text\n",
    "    info_keys = ['Labnr.','Prøver modtaget den','Analyse påbegyndt den', 'Dybde', 'Rekvirent prøve ID']\n",
    "    \n",
    "    # Extract the values based on the keys\n",
    "    info_values = [re.search(f\"{key}:\\s*(.*)\", text).group(1) for key in info_keys if re.search(f\"{key}:\\s*(.*)\", text)]\n",
    "    \n",
    "    # Create a dictionary from the extracted values\n",
    "    extracted_info = dict(zip(info_keys, info_values))\n",
    "    \n",
    "    # Convert the dictionary to a DataFrame\n",
    "    df_info = pd.DataFrame([extracted_info])\n",
    "    \n",
    "    # Optionally, return the DataFrame for further use\n",
    "    return df_info\n"
   ]
  },
  {
   "cell_type": "code",
   "execution_count": 44,
   "metadata": {},
   "outputs": [
    {
     "name": "stdout",
     "output_type": "stream",
     "text": [
      "        Labnr. Prøver modtaget den Analyse påbegyndt den Dybde Rekvirent prøve ID\n",
      "JO23250145-001          20-06-2023            21-06-2023 0-0,5                M18\n"
     ]
    }
   ],
   "source": [
    "df_info = extract_text_info(pdf_path)\n",
    "if df_info is not None:\n",
    "    print(df_info.to_string(index=False))\n"
   ]
  },
  {
   "cell_type": "markdown",
   "metadata": {},
   "source": [
    "#### combine dataframes"
   ]
  },
  {
   "cell_type": "code",
   "execution_count": 45,
   "metadata": {},
   "outputs": [],
   "source": [
    "\n",
    "\n",
    "if df_transposed is not None and df_info is not None:\n",
    "    # Resetting the index to avoid any potential issues with index misalignment\n",
    "    df_transposed_reset = df_transposed.reset_index(drop=True)\n",
    "    df_info_reset = df_info.reset_index(drop=True)\n",
    "\n",
    "    # Concatenating the two DataFrames horizontally (axis=1)\n",
    "    combined_df = pd.concat([df_info_reset, df_transposed_reset], axis=1)\n",
    "else:\n",
    "    print(\"One of the DataFrames is not defined. Please check the extraction steps.\")\n"
   ]
  },
  {
   "cell_type": "code",
   "execution_count": 46,
   "metadata": {},
   "outputs": [
    {
     "name": "stdout",
     "output_type": "stream",
     "text": [
      "        Labnr. Prøver modtaget den Analyse påbegyndt den Dybde Rekvirent prøve ID Tørstof, TS Kulbrinter C6H6-C10 Kulbrinter >C10-C15 Kulbrinter >C15-C20 Kulbrinter >C20-C35 Totalkulbrinter, sum af 4 Benzo(a)pyren Dibenz(a,h)anthracen Sum af PAH (7 stk.) Bly Cadmium Chrom, Total Kobber Nikkel Zink\n",
      "JO23250145-001          20-06-2023            21-06-2023 0-0,5                M18          85                  <2                  <5                  <5                 <20                         #        0,0072               <0,005               0,057  20    0,39           29     15     19   54\n"
     ]
    }
   ],
   "source": [
    "# Output the combined DataFrame\n",
    "if 'combined_df' in locals():\n",
    "    print(combined_df.to_string(index=False))\n",
    "else:\n",
    "    print(\"The combined DataFrame is not available.\")\n"
   ]
  }
 ],
 "metadata": {
  "kernelspec": {
   "display_name": "Python 3",
   "language": "python",
   "name": "python3"
  },
  "language_info": {
   "codemirror_mode": {
    "name": "ipython",
    "version": 3
   },
   "file_extension": ".py",
   "mimetype": "text/x-python",
   "name": "python",
   "nbconvert_exporter": "python",
   "pygments_lexer": "ipython3",
   "version": "3.11.9"
  }
 },
 "nbformat": 4,
 "nbformat_minor": 2
}
